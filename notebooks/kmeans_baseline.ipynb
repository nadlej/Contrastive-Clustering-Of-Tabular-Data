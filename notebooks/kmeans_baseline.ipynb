{
 "cells": [
  {
   "cell_type": "code",
   "execution_count": 1,
   "metadata": {
    "tags": [
     "parameters"
    ]
   },
   "outputs": [],
   "source": [
    "TAG: str = \"baseline-kmeans\"\n",
    "DATASET: str = \"EyeMovements\"\n",
    "REPETITIONS: int = 5"
   ]
  },
  {
   "cell_type": "code",
   "execution_count": 2,
   "metadata": {},
   "outputs": [],
   "source": [
    "import sys\n",
    "sys.path.append(\"../\")"
   ]
  },
  {
   "cell_type": "code",
   "execution_count": 3,
   "metadata": {},
   "outputs": [],
   "source": [
    "import comet_ml"
   ]
  },
  {
   "cell_type": "code",
   "execution_count": 4,
   "metadata": {},
   "outputs": [],
   "source": [
    "import numpy as np\n",
    "import tqdm\n",
    "from torch.utils import data\n",
    "from utils.load_dataset import load_dataset\n",
    "from evaluation import evaluation\n",
    "import os\n",
    "from sklearn.cluster import KMeans"
   ]
  },
  {
   "cell_type": "code",
   "execution_count": 5,
   "metadata": {},
   "outputs": [],
   "source": [
    "import pandas as pd"
   ]
  },
  {
   "cell_type": "code",
   "execution_count": 6,
   "metadata": {},
   "outputs": [
    {
     "name": "stderr",
     "output_type": "stream",
     "text": [
      "Using custom data configuration inria-soda--tabular-benchmark-18c6bb030d1e25c5\n",
      "Found cached dataset csv (/home/MCB/wwydmanski/.cache/huggingface/datasets/inria-soda___csv/inria-soda--tabular-benchmark-18c6bb030d1e25c5/0.0.0/6b34fb8fcf56f7c8ba51dc895bfa2bfbe43546f190a60fcf74bb5e8afdcc2317)\n"
     ]
    },
    {
     "data": {
      "application/vnd.jupyter.widget-view+json": {
       "model_id": "2b4c405d94af46c7b37c1abe7d36add8",
       "version_major": 2,
       "version_minor": 0
      },
      "text/plain": [
       "  0%|          | 0/1 [00:00<?, ?it/s]"
      ]
     },
     "metadata": {},
     "output_type": "display_data"
    }
   ],
   "source": [
    "train_dataset, test_dataset = load_dataset(DATASET)\n",
    "\n",
    "dataset = data.ConcatDataset([train_dataset, test_dataset])\n",
    "class_num = len(train_dataset.tensors[1].unique())\n",
    "X_shape = train_dataset.tensors[0].shape[1]\n",
    "\n",
    "X = np.concatenate((dataset.datasets[0].tensors[0].numpy(),  dataset.datasets[1].tensors[0].numpy()), axis=0)\n",
    "y = np.concatenate((dataset.datasets[0].tensors[1].numpy(),  dataset.datasets[1].tensors[1].numpy()), axis=0)\n"
   ]
  },
  {
   "cell_type": "code",
   "execution_count": 9,
   "metadata": {},
   "outputs": [
    {
     "data": {
      "text/plain": [
       "(array([0, 1]), (7608, 20))"
      ]
     },
     "execution_count": 9,
     "metadata": {},
     "output_type": "execute_result"
    }
   ],
   "source": [
    "class_num, X.shape"
   ]
  },
  {
   "attachments": {},
   "cell_type": "markdown",
   "metadata": {},
   "source": [
    "## Initialize network"
   ]
  },
  {
   "attachments": {},
   "cell_type": "markdown",
   "metadata": {},
   "source": [
    "## Implement Barlow Twins loss"
   ]
  },
  {
   "attachments": {},
   "cell_type": "markdown",
   "metadata": {},
   "source": [
    "## Prepare clustering evaluation"
   ]
  },
  {
   "cell_type": "code",
   "execution_count": 10,
   "metadata": {},
   "outputs": [],
   "source": [
    "def cluster(model, X, y):\n",
    "    y_pred = model.predict(X)\n",
    "    nmi, ari, f, acc = evaluation.evaluate(y, y_pred, class_num)\n",
    "    return acc"
   ]
  },
  {
   "attachments": {},
   "cell_type": "markdown",
   "metadata": {},
   "source": [
    "## Train the model"
   ]
  },
  {
   "cell_type": "code",
   "execution_count": 11,
   "metadata": {},
   "outputs": [
    {
     "name": "stderr",
     "output_type": "stream",
     "text": [
      "COMET WARNING: As you are running in a Jupyter environment, you will need to call `experiment.end()` when finished to ensure all metrics and code are logged before exiting.\n",
      "COMET INFO: Experiment is live on comet.com https://www.comet.com/wwydmanski/subtab-cluster/42b50b6cb68f4e8e844ac0d58cfdfaa9\n",
      "\n",
      "COMET WARNING: unable to find caller source code in a jupyter notebook; ignoring\n",
      "/home/MCB/wwydmanski/miniconda3/envs/img_processing/lib/python3.10/site-packages/sklearn/cluster/_kmeans.py:870: FutureWarning: The default value of `n_init` will change from 10 to 'auto' in 1.4. Set the value of `n_init` explicitly to suppress the warning\n",
      "  warnings.warn(\n",
      "COMET INFO: ---------------------------\n",
      "COMET INFO: Comet.ml Experiment Summary\n",
      "COMET INFO: ---------------------------\n",
      "COMET INFO:   Data:\n",
      "COMET INFO:     display_summary_level : 1\n",
      "COMET INFO:     url                   : https://www.comet.com/wwydmanski/subtab-cluster/42b50b6cb68f4e8e844ac0d58cfdfaa9\n",
      "COMET INFO:   Metrics:\n",
      "COMET INFO:     acc : 0.5055205047318612\n",
      "COMET INFO:   Parameters:\n",
      "COMET INFO:     algorithm    : lloyd\n",
      "COMET INFO:     copy_x       : True\n",
      "COMET INFO:     init         : k-means++\n",
      "COMET INFO:     max_iter     : 300\n",
      "COMET INFO:     n_clusters   : 2\n",
      "COMET INFO:     n_init       : warn\n",
      "COMET INFO:     random_state : 0\n",
      "COMET INFO:     tol          : 0.0001\n",
      "COMET INFO:     verbose      : 0\n",
      "COMET INFO:   Uploads:\n",
      "COMET INFO:     environment details      : 1\n",
      "COMET INFO:     filename                 : 1\n",
      "COMET INFO:     git metadata             : 1\n",
      "COMET INFO:     git-patch (uncompressed) : 1 (745.02 KB)\n",
      "COMET INFO:     installed packages       : 1\n",
      "COMET INFO:     notebook                 : 1\n",
      "COMET INFO:     os packages              : 1\n",
      "COMET INFO:     source_code              : 1\n",
      "COMET INFO: ---------------------------\n",
      "COMET WARNING: Not all initial data has been logged for experiment 42b50b6cb68f4e8e844ac0d58cfdfaa9, call Experiment.end() to ensure that all data to have been logged\n",
      "COMET WARNING: As you are running in a Jupyter environment, you will need to call `experiment.end()` when finished to ensure all metrics and code are logged before exiting.\n",
      "COMET INFO: Experiment is live on comet.com https://www.comet.com/wwydmanski/subtab-cluster/ec3164823bef4b46878ae792dc3b6f25\n",
      "\n",
      "COMET WARNING: unable to find caller source code in a jupyter notebook; ignoring\n",
      "/home/MCB/wwydmanski/miniconda3/envs/img_processing/lib/python3.10/site-packages/sklearn/cluster/_kmeans.py:870: FutureWarning: The default value of `n_init` will change from 10 to 'auto' in 1.4. Set the value of `n_init` explicitly to suppress the warning\n",
      "  warnings.warn(\n",
      "COMET INFO: ---------------------------\n",
      "COMET INFO: Comet.ml Experiment Summary\n",
      "COMET INFO: ---------------------------\n",
      "COMET INFO:   Data:\n",
      "COMET INFO:     display_summary_level : 1\n",
      "COMET INFO:     url                   : https://www.comet.com/wwydmanski/subtab-cluster/ec3164823bef4b46878ae792dc3b6f25\n",
      "COMET INFO:   Metrics:\n",
      "COMET INFO:     acc : 0.5055205047318612\n",
      "COMET INFO:   Parameters:\n",
      "COMET INFO:     algorithm    : lloyd\n",
      "COMET INFO:     copy_x       : True\n",
      "COMET INFO:     init         : k-means++\n",
      "COMET INFO:     max_iter     : 300\n",
      "COMET INFO:     n_clusters   : 2\n",
      "COMET INFO:     n_init       : warn\n",
      "COMET INFO:     random_state : 1\n",
      "COMET INFO:     tol          : 0.0001\n",
      "COMET INFO:     verbose      : 0\n",
      "COMET INFO:   Uploads:\n",
      "COMET INFO:     environment details      : 1\n",
      "COMET INFO:     filename                 : 1\n",
      "COMET INFO:     git metadata             : 1\n",
      "COMET INFO:     git-patch (uncompressed) : 1 (756.44 KB)\n",
      "COMET INFO:     installed packages       : 1\n",
      "COMET INFO:     notebook                 : 1\n",
      "COMET INFO:     os packages              : 1\n",
      "COMET INFO:     source_code              : 1\n",
      "COMET INFO: ---------------------------\n",
      "COMET WARNING: Not all initial data has been logged for experiment ec3164823bef4b46878ae792dc3b6f25, call Experiment.end() to ensure that all data to have been logged\n",
      "COMET WARNING: As you are running in a Jupyter environment, you will need to call `experiment.end()` when finished to ensure all metrics and code are logged before exiting.\n",
      "COMET INFO: Experiment is live on comet.com https://www.comet.com/wwydmanski/subtab-cluster/f74fe82129de4f89a0ac627fbdf100dc\n",
      "\n",
      "COMET WARNING: unable to find caller source code in a jupyter notebook; ignoring\n",
      "/home/MCB/wwydmanski/miniconda3/envs/img_processing/lib/python3.10/site-packages/sklearn/cluster/_kmeans.py:870: FutureWarning: The default value of `n_init` will change from 10 to 'auto' in 1.4. Set the value of `n_init` explicitly to suppress the warning\n",
      "  warnings.warn(\n",
      "COMET INFO: ---------------------------\n",
      "COMET INFO: Comet.ml Experiment Summary\n",
      "COMET INFO: ---------------------------\n",
      "COMET INFO:   Data:\n",
      "COMET INFO:     display_summary_level : 1\n",
      "COMET INFO:     url                   : https://www.comet.com/wwydmanski/subtab-cluster/f74fe82129de4f89a0ac627fbdf100dc\n",
      "COMET INFO:   Metrics:\n",
      "COMET INFO:     acc : 0.5055205047318612\n",
      "COMET INFO:   Parameters:\n",
      "COMET INFO:     algorithm    : lloyd\n",
      "COMET INFO:     copy_x       : True\n",
      "COMET INFO:     init         : k-means++\n",
      "COMET INFO:     max_iter     : 300\n",
      "COMET INFO:     n_clusters   : 2\n",
      "COMET INFO:     n_init       : warn\n",
      "COMET INFO:     random_state : 2\n",
      "COMET INFO:     tol          : 0.0001\n",
      "COMET INFO:     verbose      : 0\n",
      "COMET INFO:   Uploads:\n",
      "COMET INFO:     environment details      : 1\n",
      "COMET INFO:     filename                 : 1\n",
      "COMET INFO:     git metadata             : 1\n",
      "COMET INFO:     git-patch (uncompressed) : 1 (778.37 KB)\n",
      "COMET INFO:     installed packages       : 1\n",
      "COMET INFO:     notebook                 : 1\n",
      "COMET INFO:     os packages              : 1\n",
      "COMET INFO:     source_code              : 1\n",
      "COMET INFO: ---------------------------\n",
      "COMET WARNING: Not all initial data has been logged for experiment f74fe82129de4f89a0ac627fbdf100dc, call Experiment.end() to ensure that all data to have been logged\n",
      "COMET WARNING: As you are running in a Jupyter environment, you will need to call `experiment.end()` when finished to ensure all metrics and code are logged before exiting.\n",
      "COMET INFO: Experiment is live on comet.com https://www.comet.com/wwydmanski/subtab-cluster/f5747a9bacce4c1682e2c55390afa723\n",
      "\n",
      "COMET WARNING: unable to find caller source code in a jupyter notebook; ignoring\n",
      "/home/MCB/wwydmanski/miniconda3/envs/img_processing/lib/python3.10/site-packages/sklearn/cluster/_kmeans.py:870: FutureWarning: The default value of `n_init` will change from 10 to 'auto' in 1.4. Set the value of `n_init` explicitly to suppress the warning\n",
      "  warnings.warn(\n",
      "COMET INFO: ---------------------------\n",
      "COMET INFO: Comet.ml Experiment Summary\n",
      "COMET INFO: ---------------------------\n",
      "COMET INFO:   Data:\n",
      "COMET INFO:     display_summary_level : 1\n",
      "COMET INFO:     url                   : https://www.comet.com/wwydmanski/subtab-cluster/f5747a9bacce4c1682e2c55390afa723\n",
      "COMET INFO:   Metrics:\n",
      "COMET INFO:     acc : 0.5055205047318612\n",
      "COMET INFO:   Parameters:\n",
      "COMET INFO:     algorithm    : lloyd\n",
      "COMET INFO:     copy_x       : True\n",
      "COMET INFO:     init         : k-means++\n",
      "COMET INFO:     max_iter     : 300\n",
      "COMET INFO:     n_clusters   : 2\n",
      "COMET INFO:     n_init       : warn\n",
      "COMET INFO:     random_state : 3\n",
      "COMET INFO:     tol          : 0.0001\n",
      "COMET INFO:     verbose      : 0\n",
      "COMET INFO:   Uploads:\n",
      "COMET INFO:     environment details      : 1\n",
      "COMET INFO:     filename                 : 1\n",
      "COMET INFO:     git metadata             : 1\n",
      "COMET INFO:     git-patch (uncompressed) : 1 (778.37 KB)\n",
      "COMET INFO:     installed packages       : 1\n",
      "COMET INFO:     notebook                 : 1\n",
      "COMET INFO:     os packages              : 1\n",
      "COMET INFO:     source_code              : 1\n",
      "COMET INFO: ---------------------------\n",
      "COMET WARNING: Not all initial data has been logged for experiment f5747a9bacce4c1682e2c55390afa723, call Experiment.end() to ensure that all data to have been logged\n",
      "COMET WARNING: As you are running in a Jupyter environment, you will need to call `experiment.end()` when finished to ensure all metrics and code are logged before exiting.\n",
      "COMET INFO: Experiment is live on comet.com https://www.comet.com/wwydmanski/subtab-cluster/ab073a15525045919bab001e6883d275\n",
      "\n",
      "COMET WARNING: unable to find caller source code in a jupyter notebook; ignoring\n",
      "/home/MCB/wwydmanski/miniconda3/envs/img_processing/lib/python3.10/site-packages/sklearn/cluster/_kmeans.py:870: FutureWarning: The default value of `n_init` will change from 10 to 'auto' in 1.4. Set the value of `n_init` explicitly to suppress the warning\n",
      "  warnings.warn(\n"
     ]
    }
   ],
   "source": [
    "final_accs = []\n",
    "for rep in range(REPETITIONS):\n",
    "    experiment = comet_ml.Experiment(\n",
    "        api_key=\"5AlQI5f2YzhHH2DLIYNOsuKzj\",\n",
    "        project_name=\"subtab_cluster\",\n",
    "        workspace=\"wwydmanski\",\n",
    "    )\n",
    "\n",
    "    experiment.add_tag(TAG)\n",
    "\n",
    "    experiment.log_code()\n",
    "\n",
    "    model = KMeans(n_clusters=class_num, random_state=rep).fit(X)\n",
    "    acc = cluster(model, X, y)\n",
    "    final_accs.append(acc)\n",
    "    experiment.log_metric(\"acc\", acc)"
   ]
  },
  {
   "cell_type": "code",
   "execution_count": 12,
   "metadata": {},
   "outputs": [],
   "source": [
    "# Create `DATASET` folder if it doesn't exist\n",
    "if not os.path.exists(f\"results/{DATASET}\"):\n",
    "    os.makedirs(f\"results/{DATASET}\")\n",
    "\n",
    "with open(f\"results/{DATASET}/{TAG}.txt\", \"w\") as f:\n",
    "    f.write(str(round(np.mean(final_accs), 3)) + \"~\" + str(round(np.std(final_accs), 3)))"
   ]
  },
  {
   "cell_type": "code",
   "execution_count": null,
   "metadata": {},
   "outputs": [],
   "source": []
  }
 ],
 "metadata": {
  "kernelspec": {
   "display_name": "img_processing",
   "language": "python",
   "name": "python3"
  },
  "language_info": {
   "codemirror_mode": {
    "name": "ipython",
    "version": 3
   },
   "file_extension": ".py",
   "mimetype": "text/x-python",
   "name": "python",
   "nbconvert_exporter": "python",
   "pygments_lexer": "ipython3",
   "version": "3.10.8"
  },
  "orig_nbformat": 4,
  "vscode": {
   "interpreter": {
    "hash": "ded08e406c5d87bcffdecd729a49ddd8b871a9eb59463bfdfdc58a709830c2d5"
   }
  }
 },
 "nbformat": 4,
 "nbformat_minor": 2
}
