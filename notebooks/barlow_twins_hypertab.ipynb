{
 "cells": [
  {
   "cell_type": "code",
   "execution_count": 6,
   "metadata": {
    "tags": [
     "parameters"
    ]
   },
   "outputs": [],
   "source": [
    "DEVICE: str = \"cuda:3\"\n",
    "BATCH_SIZE: int = 128\n",
    "PROJECTION_SIZE: int = 256\n",
    "MASKING_RATIO: float = 0.2\n",
    "EPOCHS: int = 100\n",
    "BT_LAMBDA: float = 5e-3\n",
    "INSTANCE_LOSS: str = \"simclr\" # \"barlow_twins\" or \"simclr\"\n",
    "CLUSTER_LOSS: str = \"simclr\" # \"barlow_twins\" or \"simclr\"\n",
    "REPETITIONS: int = 5\n",
    "NOISE: str = \"mixed\" # \"swap_noise\", \"gaussian\", \"mixed\", \"zero\"\n",
    "TAG: str = \"x-xi-xj-loss-multiple-masks-20-0.8-ratio\"\n",
    "DATASET: str = \"letter\""
   ]
  },
  {
   "cell_type": "code",
   "execution_count": 7,
   "metadata": {},
   "outputs": [],
   "source": [
    "BATCH_SIZE = int(BATCH_SIZE)\n",
    "PROJECTION_SIZE = int(PROJECTION_SIZE)\n",
    "MASKING_RATIO = float(MASKING_RATIO)\n",
    "EPOCHS = int(EPOCHS)"
   ]
  },
  {
   "cell_type": "code",
   "execution_count": 8,
   "metadata": {},
   "outputs": [],
   "source": [
    "params = {\n",
    "    'learning_rate': 1e-3,\n",
    "    'eps': 1e-7,\n",
    "    'projection_size': PROJECTION_SIZE,\n",
    "    'n_layers': 3,\n",
    "    '0_layer_size': 512,\n",
    "    '1_layer_size': 256,\n",
    "    '2_layer_size': 128,\n",
    "    '3_layer_size': 128,\n",
    "    'masking_ratio': MASKING_RATIO,\n",
    "    'noise': NOISE,\n",
    "}"
   ]
  },
  {
   "cell_type": "code",
   "execution_count": 9,
   "metadata": {},
   "outputs": [],
   "source": [
    "import sys\n",
    "sys.path.append(\"../\")"
   ]
  },
  {
   "cell_type": "code",
   "execution_count": null,
   "metadata": {},
   "outputs": [],
   "source": []
  },
  {
   "cell_type": "code",
   "execution_count": 10,
   "metadata": {},
   "outputs": [],
   "source": [
    "import comet_ml"
   ]
  },
  {
   "cell_type": "code",
   "execution_count": 11,
   "metadata": {},
   "outputs": [],
   "source": [
    "import numpy as np\n",
    "import torch\n",
    "from torch import nn\n",
    "import tqdm\n",
    "import torch.optim\n",
    "from modules import hypertab_network, contrastive_loss\n",
    "from utils import yaml_config_hook, save_model\n",
    "from torch.utils import data\n",
    "from utils.load_dataset import load_dataset\n",
    "from evaluation import evaluation\n",
    "from utils.generate_noise import generate_noisy_xbar\n",
    "import os"
   ]
  },
  {
   "cell_type": "code",
   "execution_count": 12,
   "metadata": {},
   "outputs": [],
   "source": [
    "train_dataset, test_dataset = load_dataset(DATASET)\n",
    "\n",
    "dataset = data.ConcatDataset([train_dataset, test_dataset])\n",
    "class_num = len(train_dataset.tensors[1].unique())\n",
    "X_shape = train_dataset.tensors[0].shape[1]\n",
    "data_loader = torch.utils.data.DataLoader(\n",
    "    dataset,\n",
    "    batch_size=BATCH_SIZE,\n",
    "    shuffle=True,\n",
    "    drop_last=True,\n",
    "    num_workers=1,\n",
    ")\n"
   ]
  },
  {
   "cell_type": "code",
   "execution_count": null,
   "metadata": {},
   "outputs": [
    {
     "data": {
      "text/plain": [
       "26"
      ]
     },
     "execution_count": 8,
     "metadata": {},
     "output_type": "execute_result"
    }
   ],
   "source": [
    "class_num"
   ]
  },
  {
   "attachments": {},
   "cell_type": "markdown",
   "metadata": {},
   "source": [
    "## Initialize network"
   ]
  },
  {
   "attachments": {},
   "cell_type": "markdown",
   "metadata": {},
   "source": [
    "## Implement Barlow Twins loss"
   ]
  },
  {
   "cell_type": "code",
   "execution_count": null,
   "metadata": {},
   "outputs": [],
   "source": [
    "class BarlowTwinsLoss(nn.Module):\n",
    "    def __init__(self, lbd) -> None:\n",
    "        super().__init__()\n",
    "        self.lbd = lbd\n",
    "    \n",
    "    def forward(self, z_a, z_b) -> torch.Tensor:\n",
    "        z_a = nn.functional.normalize(z_a, dim=0)\n",
    "        z_b = nn.functional.normalize(z_b, dim=0)\n",
    "        c = torch.matmul(z_a.T, z_b) \n",
    "        invariance_loss = c - torch.eye(c.shape[0], device=c.device)\n",
    "        loss = torch.sum(invariance_loss.diagonal() ** 2)\n",
    "\n",
    "        redundancy_loss = c**2\n",
    "        redundancy_loss.diagonal().fill_(0)\n",
    "        loss += self.lbd * torch.sum(redundancy_loss)\n",
    "        return loss"
   ]
  },
  {
   "cell_type": "code",
   "execution_count": null,
   "metadata": {},
   "outputs": [],
   "source": [
    "bt_loss = BarlowTwinsLoss(BT_LAMBDA)"
   ]
  },
  {
   "cell_type": "code",
   "execution_count": null,
   "metadata": {},
   "outputs": [
    {
     "data": {
      "text/plain": [
       "tensor(0.3237)"
      ]
     },
     "execution_count": 11,
     "metadata": {},
     "output_type": "execute_result"
    }
   ],
   "source": [
    "z_a = torch.randn(256, 128)\n",
    "bt_loss(z_a, z_a)"
   ]
  },
  {
   "attachments": {},
   "cell_type": "markdown",
   "metadata": {},
   "source": [
    "## Prepare clustering evaluation"
   ]
  },
  {
   "cell_type": "code",
   "execution_count": null,
   "metadata": {},
   "outputs": [],
   "source": [
    "def cluster(model, data_loader):\n",
    "    model.eval()\n",
    "    accuracies = []\n",
    "    for step, (x, y) in enumerate(data_loader):\n",
    "        x = x.to(DEVICE)\n",
    "        y = y.tolist()\n",
    "        \n",
    "        with torch.no_grad():\n",
    "            y_pred = model.forward_cluster(x).cpu().detach().tolist()\n",
    "            \n",
    "        try:\n",
    "            nmi, ari, f, acc = evaluation.evaluate(y, y_pred, class_num)\n",
    "        except IndexError:\n",
    "            continue \n",
    "        accuracies.append(acc)\n",
    "    return np.mean(accuracies)"
   ]
  },
  {
   "attachments": {},
   "cell_type": "markdown",
   "metadata": {},
   "source": [
    "## Train the model"
   ]
  },
  {
   "cell_type": "code",
   "execution_count": null,
   "metadata": {},
   "outputs": [],
   "source": [
    "loss_device = torch.device(DEVICE)\n",
    "if INSTANCE_LOSS == \"barlow_twins\":\n",
    "    criterion_instance = BarlowTwinsLoss(BT_LAMBDA)\n",
    "else:\n",
    "    criterion_instance = contrastive_loss.InstanceLoss(BATCH_SIZE, 0.5, loss_device).to(\n",
    "        loss_device)\n",
    "    \n",
    "if CLUSTER_LOSS == \"barlow_twins\":\n",
    "    criterion_cluster = BarlowTwinsLoss(BT_LAMBDA)\n",
    "else:\n",
    "    criterion_cluster = contrastive_loss.ClusterLoss(class_num, 1.0, loss_device).to(loss_device)"
   ]
  },
  {
   "cell_type": "code",
   "execution_count": null,
   "metadata": {},
   "outputs": [
    {
     "name": "stderr",
     "output_type": "stream",
     "text": [
      "COMET WARNING: As you are running in a Jupyter environment, you will need to call `experiment.end()` when finished to ensure all metrics and code are logged before exiting.\n"
     ]
    },
    {
     "name": "stdout",
     "output_type": "stream",
     "text": [
      "Start training on device: cuda:3\n",
      "{'batch_size': 128, 'masking_ratio': 0.2, 'noise': 'mixed', 'bt_lambda': 0.005, 'projection_size': 256, 'epochs': 100, 'instance_loss': 'simclr', 'cluster_loss': 'simclr', 'dataset': 'letter'}\n"
     ]
    },
    {
     "name": "stderr",
     "output_type": "stream",
     "text": [
      "COMET INFO: Experiment is live on comet.com https://www.comet.com/wwydmanski/subtab-cluster/b0c42f3898bf4f9387f0c25209ad60cd\n",
      "\n",
      "COMET WARNING: unable to find caller source code in a jupyter notebook; ignoring\n",
      "100%|██████████| 100/100 [1:16:11<00:00, 45.72s/it]\n",
      "COMET INFO: ---------------------------\n",
      "COMET INFO: Comet.ml Experiment Summary\n",
      "COMET INFO: ---------------------------\n",
      "COMET INFO:   Data:\n",
      "COMET INFO:     display_summary_level : 1\n",
      "COMET INFO:     url                   : https://www.comet.com/wwydmanski/subtab-cluster/b0c42f3898bf4f9387f0c25209ad60cd\n",
      "COMET INFO:   Metrics [count] (min, max):\n",
      "COMET INFO:     acc [100]           : (0.06294326241134751, 0.2942540322580645)\n",
      "COMET INFO:     loss [1660]         : (17.169086456298828, 3238.7661170959473)\n",
      "COMET INFO:     loss_bt [100]       : (4.296166895291744, 5.237543934430832)\n",
      "COMET INFO:     loss_cluster [100]  : (3.3679517614535794, 3.854876302755796)\n",
      "COMET INFO:     loss_hypertab [100] : (10.147099825052114, 11.668900954417694)\n",
      "COMET INFO:   Parameters:\n",
      "COMET INFO:     0_layer_size    : 512\n",
      "COMET INFO:     1_layer_size    : 256\n",
      "COMET INFO:     2_layer_size    : 128\n",
      "COMET INFO:     3_layer_size    : 128\n",
      "COMET INFO:     batch_size      : 128\n",
      "COMET INFO:     bt_lambda       : 0.005\n",
      "COMET INFO:     cluster_loss    : simclr\n",
      "COMET INFO:     dataset         : letter\n",
      "COMET INFO:     epochs          : 100\n",
      "COMET INFO:     eps             : 1e-07\n",
      "COMET INFO:     instance_loss   : simclr\n",
      "COMET INFO:     learning_rate   : 0.001\n",
      "COMET INFO:     masking_ratio   : 0.2\n",
      "COMET INFO:     n_layers        : 3\n",
      "COMET INFO:     noise           : mixed\n",
      "COMET INFO:     projection_size : 256\n",
      "COMET INFO:   Uploads:\n",
      "COMET INFO:     conda-environment-definition : 1\n",
      "COMET INFO:     conda-info                   : 1\n",
      "COMET INFO:     conda-specification          : 1\n",
      "COMET INFO:     environment details          : 1\n",
      "COMET INFO:     filename                     : 1\n",
      "COMET INFO:     git metadata                 : 1\n",
      "COMET INFO:     git-patch (uncompressed)     : 1 (1.03 KB)\n",
      "COMET INFO:     installed packages           : 1\n",
      "COMET INFO:     model graph                  : 1\n",
      "COMET INFO:     notebook                     : 1\n",
      "COMET INFO:     os packages                  : 1\n",
      "COMET INFO:     source_code                  : 1\n",
      "COMET INFO: ---------------------------\n",
      "COMET WARNING: As you are running in a Jupyter environment, you will need to call `experiment.end()` when finished to ensure all metrics and code are logged before exiting.\n",
      "COMET INFO: Experiment is live on comet.com https://www.comet.com/wwydmanski/subtab-cluster/09c623407e5b470289ccba27fd6d41b7\n",
      "\n",
      "COMET WARNING: unable to find caller source code in a jupyter notebook; ignoring\n",
      "100%|██████████| 100/100 [1:07:52<00:00, 40.72s/it]\n",
      "COMET INFO: ---------------------------\n",
      "COMET INFO: Comet.ml Experiment Summary\n",
      "COMET INFO: ---------------------------\n",
      "COMET INFO:   Data:\n",
      "COMET INFO:     display_summary_level : 1\n",
      "COMET INFO:     url                   : https://www.comet.com/wwydmanski/subtab-cluster/09c623407e5b470289ccba27fd6d41b7\n",
      "COMET INFO:   Metrics [count] (min, max):\n",
      "COMET INFO:     acc [100]           : (0.030280172413793105, 0.32268145161290324)\n",
      "COMET INFO:     loss [1660]         : (17.100933074951172, 3214.9890995025635)\n",
      "COMET INFO:     loss_bt [100]       : (4.305674135684967, 5.199431954286037)\n",
      "COMET INFO:     loss_cluster [100]  : (3.3774321170953603, 3.8492786165995474)\n",
      "COMET INFO:     loss_hypertab [100] : (10.153392070379013, 11.560193948256664)\n",
      "COMET INFO:   Parameters:\n",
      "COMET INFO:     0_layer_size    : 512\n",
      "COMET INFO:     1_layer_size    : 256\n",
      "COMET INFO:     2_layer_size    : 128\n",
      "COMET INFO:     3_layer_size    : 128\n",
      "COMET INFO:     batch_size      : 128\n",
      "COMET INFO:     bt_lambda       : 0.005\n",
      "COMET INFO:     cluster_loss    : simclr\n",
      "COMET INFO:     dataset         : letter\n",
      "COMET INFO:     epochs          : 100\n",
      "COMET INFO:     eps             : 1e-07\n",
      "COMET INFO:     instance_loss   : simclr\n",
      "COMET INFO:     learning_rate   : 0.001\n",
      "COMET INFO:     masking_ratio   : 0.2\n",
      "COMET INFO:     n_layers        : 3\n",
      "COMET INFO:     noise           : mixed\n",
      "COMET INFO:     projection_size : 256\n",
      "COMET INFO:   Uploads:\n",
      "COMET INFO:     conda-environment-definition : 1\n",
      "COMET INFO:     conda-info                   : 1\n",
      "COMET INFO:     conda-specification          : 1\n",
      "COMET INFO:     environment details          : 1\n",
      "COMET INFO:     filename                     : 1\n",
      "COMET INFO:     git metadata                 : 1\n",
      "COMET INFO:     git-patch (uncompressed)     : 1 (1.03 KB)\n",
      "COMET INFO:     installed packages           : 1\n",
      "COMET INFO:     model graph                  : 1\n",
      "COMET INFO:     notebook                     : 1\n",
      "COMET INFO:     os packages                  : 1\n",
      "COMET INFO:     source_code                  : 1\n",
      "COMET INFO: ---------------------------\n",
      "COMET WARNING: As you are running in a Jupyter environment, you will need to call `experiment.end()` when finished to ensure all metrics and code are logged before exiting.\n",
      "COMET INFO: Experiment is live on comet.com https://www.comet.com/wwydmanski/subtab-cluster/21f941e4e713423596dc44d4bb0e593c\n",
      "\n",
      "COMET WARNING: unable to find caller source code in a jupyter notebook; ignoring\n",
      " 26%|██▌       | 26/100 [14:52<42:19, 34.32s/it] \n"
     ]
    },
    {
     "ename": "KeyboardInterrupt",
     "evalue": "",
     "output_type": "error",
     "traceback": [
      "\u001b[0;31m---------------------------------------------------------------------------\u001b[0m",
      "\u001b[0;31mKeyboardInterrupt\u001b[0m                         Traceback (most recent call last)",
      "Cell \u001b[0;32mIn[14], line 64\u001b[0m\n\u001b[1;32m     60\u001b[0m     loss_hypertab_epoch \u001b[39m+\u001b[39m\u001b[39m=\u001b[39m hypertab_loss\u001b[39m.\u001b[39mitem()\n\u001b[1;32m     62\u001b[0m     loss_epoch \u001b[39m+\u001b[39m\u001b[39m=\u001b[39m loss\u001b[39m.\u001b[39mitem()\n\u001b[0;32m---> 64\u001b[0m acc \u001b[39m=\u001b[39m cluster(model, data_loader)\n\u001b[1;32m     65\u001b[0m experiment\u001b[39m.\u001b[39mlog_metric(\u001b[39m\"\u001b[39m\u001b[39mloss\u001b[39m\u001b[39m\"\u001b[39m, loss_epoch, step\u001b[39m=\u001b[39mepoch)\n\u001b[1;32m     66\u001b[0m experiment\u001b[39m.\u001b[39mlog_metric(\u001b[39m\"\u001b[39m\u001b[39macc\u001b[39m\u001b[39m\"\u001b[39m, acc, step\u001b[39m=\u001b[39mepoch)\n",
      "Cell \u001b[0;32mIn[12], line 9\u001b[0m, in \u001b[0;36mcluster\u001b[0;34m(model, data_loader)\u001b[0m\n\u001b[1;32m      6\u001b[0m y \u001b[39m=\u001b[39m y\u001b[39m.\u001b[39mtolist()\n\u001b[1;32m      8\u001b[0m \u001b[39mwith\u001b[39;00m torch\u001b[39m.\u001b[39mno_grad():\n\u001b[0;32m----> 9\u001b[0m     y_pred \u001b[39m=\u001b[39m model\u001b[39m.\u001b[39;49mforward_cluster(x)\u001b[39m.\u001b[39mcpu()\u001b[39m.\u001b[39mdetach()\u001b[39m.\u001b[39mtolist()\n\u001b[1;32m     11\u001b[0m \u001b[39mtry\u001b[39;00m:\n\u001b[1;32m     12\u001b[0m     nmi, ari, f, acc \u001b[39m=\u001b[39m evaluation\u001b[39m.\u001b[39mevaluate(y, y_pred, class_num)\n",
      "File \u001b[0;32m~/Master-thesis/notebooks/../modules/hypertab_network.py:71\u001b[0m, in \u001b[0;36mNetwork.forward_cluster\u001b[0;34m(self, x)\u001b[0m\n\u001b[1;32m     68\u001b[0m res \u001b[39m=\u001b[39m []\n\u001b[1;32m     70\u001b[0m \u001b[39mfor\u001b[39;00m idx, network \u001b[39min\u001b[39;00m \u001b[39menumerate\u001b[39m(nets):\n\u001b[0;32m---> 71\u001b[0m     cast \u001b[39m=\u001b[39m x[:, \u001b[39mself\u001b[39;49m\u001b[39m.\u001b[39;49mhypernet\u001b[39m.\u001b[39;49mtest_mask[idx]\u001b[39m.\u001b[39;49mto(device)\u001b[39m.\u001b[39;49mbool()] \u001b[39m@\u001b[39m network\u001b[39m.\u001b[39mlayers[\u001b[39m0\u001b[39m][\u001b[39m0\u001b[39m]\u001b[39m.\u001b[39mT\n\u001b[1;32m     72\u001b[0m     h \u001b[39m=\u001b[39m \u001b[39mself\u001b[39m\u001b[39m.\u001b[39mbackbone(cast)\n\u001b[1;32m     73\u001b[0m     c \u001b[39m=\u001b[39m \u001b[39mself\u001b[39m\u001b[39m.\u001b[39mcluster_projector(h)\n",
      "\u001b[0;31mKeyboardInterrupt\u001b[0m: "
     ]
    }
   ],
   "source": [
    "final_accs = []\n",
    "logged_params = {\n",
    "    'batch_size': BATCH_SIZE,\n",
    "    'masking_ratio': MASKING_RATIO,\n",
    "    'noise': 'mixed',\n",
    "    'bt_lambda': BT_LAMBDA,\n",
    "    'projection_size': PROJECTION_SIZE,\n",
    "    'epochs': EPOCHS,\n",
    "    'instance_loss': INSTANCE_LOSS,\n",
    "    'cluster_loss': CLUSTER_LOSS,\n",
    "    'noise': NOISE,\n",
    "    'dataset': DATASET,\n",
    "}\n",
    "print(\"Start training on device: {}\".format(DEVICE))\n",
    "print(logged_params)\n",
    "\n",
    "for _ in range(REPETITIONS):\n",
    "    experiment = comet_ml.Experiment(\n",
    "        api_key=\"5AlQI5f2YzhHH2DLIYNOsuKzj\",\n",
    "        project_name=\"subtab_cluster\",\n",
    "        workspace=\"wwydmanski\",\n",
    "    )\n",
    "\n",
    "    experiment.log_parameters(params)\n",
    "    experiment.log_parameters(logged_params)\n",
    "    experiment.add_tag(\"hypertab\")\n",
    "    experiment.add_tag(TAG)\n",
    "\n",
    "    experiment.log_code()\n",
    "\n",
    "    model = hypertab_network.Network(X_shape, params, class_num).to(DEVICE)\n",
    "    model = model.to(DEVICE)\n",
    "    model.hypernet.to(DEVICE)\n",
    "\n",
    "    optimizer = torch.optim.AdamW(model.parameters(), lr=params['learning_rate'], weight_decay=1e-3, betas=(0.9,0.999), eps=params['eps'])\n",
    "\n",
    "    for epoch in tqdm.trange(EPOCHS):\n",
    "        loss_epoch = 0\n",
    "        loss_bt_epoch = 0\n",
    "        loss_cluster_epoch = 0\n",
    "        loss_hypertab_epoch = 0\n",
    "\n",
    "        for step, (x, _) in enumerate(data_loader):\n",
    "            x = x.to(DEVICE)\n",
    "            optimizer.zero_grad()\n",
    "            x_i, x_j = model.add_noise(x)\n",
    "\n",
    "            z_i, z_j, c_i, c_j = model(x_i, x_j)\n",
    "            \n",
    "            loss_instance = criterion_instance(z_i, z_j)\n",
    "            loss_cluster = criterion_cluster(c_i, c_j)\n",
    "            hypertab_loss = criterion_instance(x, x_i) + criterion_instance(x, x_j)\n",
    "\n",
    "            loss = loss_instance + loss_cluster + hypertab_loss\n",
    "            loss.backward()\n",
    "            optimizer.step()\n",
    "\n",
    "            loss_bt_epoch += loss_instance.item()\n",
    "            loss_cluster_epoch += loss_cluster.item()\n",
    "            loss_hypertab_epoch += hypertab_loss.item()\n",
    "\n",
    "            loss_epoch += loss.item()\n",
    "\n",
    "        acc = cluster(model, data_loader)\n",
    "        experiment.log_metric(\"loss\", loss_epoch, step=epoch)\n",
    "        experiment.log_metric(\"acc\", acc, step=epoch)\n",
    "        experiment.log_metric(\"loss_bt\", loss_bt_epoch / len(data_loader), step=epoch)\n",
    "        experiment.log_metric(\"loss_cluster\", loss_cluster_epoch / len(data_loader), step=epoch)\n",
    "        experiment.log_metric(\"loss_hypertab\", loss_hypertab_epoch / len(data_loader), step=epoch)\n",
    "    final_accs.append(acc)"
   ]
  },
  {
   "cell_type": "code",
   "execution_count": null,
   "metadata": {},
   "outputs": [
    {
     "data": {
      "text/plain": [
       "tensor([ 0,  3,  5,  6,  7,  8,  9, 11, 12, 13, 14, 15, 16, 17, 21, 22, 24, 25])"
      ]
     },
     "execution_count": 15,
     "metadata": {},
     "output_type": "execute_result"
    }
   ],
   "source": [
    "model.forward_cluster(x).cpu().detach().unique()"
   ]
  },
  {
   "cell_type": "code",
   "execution_count": null,
   "metadata": {},
   "outputs": [],
   "source": [
    "# Create `DATASET` folder if it doesn't exist\n",
    "if not os.path.exists(f\"results/{DATASET}\"):\n",
    "    os.makedirs(f\"results/{DATASET}\")\n",
    "\n",
    "with open(f\"results/{DATASET}/{TAG}.txt\", \"a\") as f:\n",
    "    f.write(str(round(np.mean(final_accs), 3)) + \"~\" + str(round(np.std(final_accs), 3)))"
   ]
  }
 ],
 "metadata": {
  "kernelspec": {
   "display_name": "img_processing",
   "language": "python",
   "name": "python3"
  },
  "language_info": {
   "codemirror_mode": {
    "name": "ipython",
    "version": 3
   },
   "file_extension": ".py",
   "mimetype": "text/x-python",
   "name": "python",
   "nbconvert_exporter": "python",
   "pygments_lexer": "ipython3",
   "version": "3.10.8 (main, Nov 24 2022, 14:13:03) [GCC 11.2.0]"
  },
  "orig_nbformat": 4,
  "vscode": {
   "interpreter": {
    "hash": "ded08e406c5d87bcffdecd729a49ddd8b871a9eb59463bfdfdc58a709830c2d5"
   }
  }
 },
 "nbformat": 4,
 "nbformat_minor": 2
}
