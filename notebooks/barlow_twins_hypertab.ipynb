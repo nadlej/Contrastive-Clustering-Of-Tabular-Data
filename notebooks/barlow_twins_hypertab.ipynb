{
 "cells": [
  {
   "cell_type": "code",
   "execution_count": 1,
   "metadata": {
    "tags": [
     "parameters"
    ]
   },
   "outputs": [],
   "source": [
    "DEVICE: str = \"cuda:1\"\n",
    "BATCH_SIZE: int = 256\n",
    "PROJECTION_SIZE: int = 1024\n",
    "\n",
    "MASKING_RATIO: float = 0.7\n",
    "TEST_NODES: int = 50\n",
    "\n",
    "EPOCHS: int = 100\n",
    "BT_LAMBDA: float = 5e-3\n",
    "INSTANCE_LOSS: str = \"simclr\" # \"barlow_twins\" or \"simclr\"\n",
    "CLUSTER_LOSS: str = \"simclr\" # \"barlow_twins\" or \"simclr\"\n",
    "REPETITIONS: int = 5\n",
    "NOISE: str = \"mixed\" # \"swap_noise\", \"gaussian\", \"mixed\", \"zero\"\n",
    "TAG: str = None\n",
    "SUFFIX: str = None\n",
    "DATASET: str = \"MNIST\"\n",
    "HT_LOSS_WEIGHT: float = 1.0"
   ]
  },
  {
   "cell_type": "code",
   "execution_count": 2,
   "metadata": {},
   "outputs": [],
   "source": [
    "BATCH_SIZE = int(BATCH_SIZE)\n",
    "PROJECTION_SIZE = int(PROJECTION_SIZE)\n",
    "MASKING_RATIO = float(MASKING_RATIO)\n",
    "EPOCHS = int(EPOCHS)"
   ]
  },
  {
   "cell_type": "code",
   "execution_count": 3,
   "metadata": {},
   "outputs": [],
   "source": [
    "if TAG is None:\n",
    "    TAG = f\"x-xi-xj-loss-multiple-masks-{TEST_NODES}-{MASKING_RATIO}-ratio{f'-{SUFFIX}' if SUFFIX else ''}\""
   ]
  },
  {
   "cell_type": "code",
   "execution_count": 4,
   "metadata": {},
   "outputs": [],
   "source": [
    "params = {\n",
    "    'learning_rate': 1e-3,\n",
    "    'eps': 1e-7,\n",
    "    'projection_size': PROJECTION_SIZE,\n",
    "    'n_layers': 3,\n",
    "    '0_layer_size': 512,\n",
    "    '1_layer_size': 256,\n",
    "    '2_layer_size': 128,\n",
    "    '3_layer_size': 128,\n",
    "    'masking_ratio': MASKING_RATIO,\n",
    "    'noise': NOISE,\n",
    "}"
   ]
  },
  {
   "cell_type": "code",
   "execution_count": 5,
   "metadata": {},
   "outputs": [],
   "source": [
    "import sys\n",
    "sys.path.append(\"../\")"
   ]
  },
  {
   "cell_type": "code",
   "execution_count": 6,
   "metadata": {},
   "outputs": [],
   "source": [
    "import comet_ml"
   ]
  },
  {
   "cell_type": "code",
   "execution_count": 7,
   "metadata": {},
   "outputs": [],
   "source": [
    "import numpy as np\n",
    "import torch\n",
    "from torch import nn\n",
    "import tqdm\n",
    "import torch.optim\n",
    "from modules import hypertab_network, contrastive_loss\n",
    "from utils import yaml_config_hook, save_model\n",
    "from torch.utils import data\n",
    "from utils.load_dataset import load_dataset\n",
    "from evaluation import evaluation\n",
    "from utils.generate_noise import generate_noisy_xbar\n",
    "import os"
   ]
  },
  {
   "cell_type": "code",
   "execution_count": 8,
   "metadata": {},
   "outputs": [],
   "source": [
    "import pandas as pd"
   ]
  },
  {
   "cell_type": "code",
   "execution_count": 9,
   "metadata": {},
   "outputs": [],
   "source": [
    "train_dataset, test_dataset = load_dataset(DATASET)\n",
    "\n",
    "dataset = data.ConcatDataset([train_dataset, test_dataset])\n",
    "try:\n",
    "    class_num = len(train_dataset.tensors[1].unique())\n",
    "    X_shape = train_dataset.tensors[0].shape[1]\n",
    "except AttributeError:\n",
    "    # MNIST\n",
    "    class_num = 10\n",
    "    X_shape = 784\n",
    "    \n",
    "data_loader = torch.utils.data.DataLoader(\n",
    "    dataset,\n",
    "    batch_size=BATCH_SIZE,\n",
    "    shuffle=True,\n",
    "    drop_last=True,\n",
    "    num_workers=1,\n",
    ")\n"
   ]
  },
  {
   "cell_type": "code",
   "execution_count": 10,
   "metadata": {},
   "outputs": [
    {
     "data": {
      "text/plain": [
       "(10, 784)"
      ]
     },
     "execution_count": 10,
     "metadata": {},
     "output_type": "execute_result"
    }
   ],
   "source": [
    "class_num, X_shape"
   ]
  },
  {
   "attachments": {},
   "cell_type": "markdown",
   "metadata": {},
   "source": [
    "## Initialize network"
   ]
  },
  {
   "attachments": {},
   "cell_type": "markdown",
   "metadata": {},
   "source": [
    "## Implement Barlow Twins loss"
   ]
  },
  {
   "cell_type": "code",
   "execution_count": 11,
   "metadata": {},
   "outputs": [],
   "source": [
    "class BarlowTwinsLoss(nn.Module):\n",
    "    def __init__(self, lbd) -> None:\n",
    "        super().__init__()\n",
    "        self.lbd = lbd\n",
    "    \n",
    "    def forward(self, z_a, z_b) -> torch.Tensor:\n",
    "        z_a = nn.functional.normalize(z_a, dim=0)\n",
    "        z_b = nn.functional.normalize(z_b, dim=0)\n",
    "        c = torch.matmul(z_a.T, z_b) \n",
    "        invariance_loss = c - torch.eye(c.shape[0], device=c.device)\n",
    "        loss = torch.sum(invariance_loss.diagonal() ** 2)\n",
    "\n",
    "        redundancy_loss = c**2\n",
    "        redundancy_loss.diagonal().fill_(0)\n",
    "        loss += self.lbd * torch.sum(redundancy_loss)\n",
    "        return loss"
   ]
  },
  {
   "cell_type": "code",
   "execution_count": 12,
   "metadata": {},
   "outputs": [],
   "source": [
    "bt_loss = BarlowTwinsLoss(BT_LAMBDA)"
   ]
  },
  {
   "cell_type": "code",
   "execution_count": 13,
   "metadata": {},
   "outputs": [
    {
     "data": {
      "text/plain": [
       "tensor(0.3144)"
      ]
     },
     "execution_count": 13,
     "metadata": {},
     "output_type": "execute_result"
    }
   ],
   "source": [
    "z_a = torch.randn(256, 128)\n",
    "bt_loss(z_a, z_a)"
   ]
  },
  {
   "attachments": {},
   "cell_type": "markdown",
   "metadata": {},
   "source": [
    "## Prepare clustering evaluation"
   ]
  },
  {
   "cell_type": "code",
   "execution_count": 14,
   "metadata": {},
   "outputs": [],
   "source": [
    "def cluster(model, data_loader):\n",
    "    model.eval()\n",
    "    accuracies = []\n",
    "    for step, (x, y) in enumerate(data_loader):\n",
    "        x = x.to(DEVICE)\n",
    "        y = y.tolist()\n",
    "        \n",
    "        with torch.no_grad():\n",
    "            y_pred = model.forward_cluster(x).cpu().detach().tolist()\n",
    "            \n",
    "        try:\n",
    "            nmi, ari, f, acc = evaluation.evaluate(y, y_pred, class_num)\n",
    "        except IndexError:\n",
    "            continue \n",
    "        accuracies.append(acc)\n",
    "    return np.mean(accuracies)"
   ]
  },
  {
   "attachments": {},
   "cell_type": "markdown",
   "metadata": {},
   "source": [
    "## Train the model"
   ]
  },
  {
   "cell_type": "code",
   "execution_count": 15,
   "metadata": {},
   "outputs": [],
   "source": [
    "loss_device = torch.device(DEVICE)\n",
    "if INSTANCE_LOSS == \"barlow_twins\":\n",
    "    criterion_instance = BarlowTwinsLoss(BT_LAMBDA)\n",
    "else:\n",
    "    criterion_instance = contrastive_loss.InstanceLoss(BATCH_SIZE, 0.5, loss_device).to(\n",
    "        loss_device)\n",
    "    \n",
    "if CLUSTER_LOSS == \"barlow_twins\":\n",
    "    criterion_cluster = BarlowTwinsLoss(BT_LAMBDA)\n",
    "else:\n",
    "    criterion_cluster = contrastive_loss.ClusterLoss(class_num, 1.0, loss_device).to(loss_device)"
   ]
  },
  {
   "cell_type": "code",
   "execution_count": 16,
   "metadata": {},
   "outputs": [
    {
     "name": "stderr",
     "output_type": "stream",
     "text": [
      "COMET WARNING: As you are running in a Jupyter environment, you will need to call `experiment.end()` when finished to ensure all metrics and code are logged before exiting.\n"
     ]
    },
    {
     "name": "stdout",
     "output_type": "stream",
     "text": [
      "Start training on device: cuda:1\n",
      "{'batch_size': 256, 'masking_ratio': 0.7, 'noise': 'mixed', 'bt_lambda': 0.005, 'projection_size': 1024, 'epochs': 100, 'instance_loss': 'simclr', 'cluster_loss': 'simclr', 'dataset': 'MNIST', 'test_nodes': 50}\n"
     ]
    },
    {
     "name": "stderr",
     "output_type": "stream",
     "text": [
      "COMET INFO: Experiment is live on comet.com https://www.comet.com/wwydmanski/subtab-cluster/ad2a56c7493f4bb99b2c4d378d7f04c5\n",
      "\n",
      "COMET WARNING: unable to find caller source code in a jupyter notebook; ignoring\n",
      " 89%|████████▉ | 89/100 [1:36:54<16:30, 90.02s/it]"
     ]
    }
   ],
   "source": [
    "final_accs = []\n",
    "logged_params = {\n",
    "    'batch_size': BATCH_SIZE,\n",
    "    'masking_ratio': MASKING_RATIO,\n",
    "    'noise': 'mixed',\n",
    "    'bt_lambda': BT_LAMBDA,\n",
    "    'projection_size': PROJECTION_SIZE,\n",
    "    'epochs': EPOCHS,\n",
    "    'instance_loss': INSTANCE_LOSS,\n",
    "    'cluster_loss': CLUSTER_LOSS,\n",
    "    'noise': NOISE,\n",
    "    'dataset': DATASET,\n",
    "    'test_nodes': TEST_NODES,\n",
    "}\n",
    "print(\"Start training on device: {}\".format(DEVICE))\n",
    "print(logged_params)\n",
    "\n",
    "for _ in range(REPETITIONS):\n",
    "    experiment = comet_ml.Experiment(\n",
    "        api_key=\"5AlQI5f2YzhHH2DLIYNOsuKzj\",\n",
    "        project_name=\"subtab_cluster\",\n",
    "        workspace=\"wwydmanski\",\n",
    "    )\n",
    "\n",
    "    experiment.log_parameters(params)\n",
    "    experiment.log_parameters(logged_params)\n",
    "    experiment.add_tag(\"hypertab\")\n",
    "    experiment.add_tag(TAG)\n",
    "\n",
    "    experiment.log_code()\n",
    "\n",
    "    model = hypertab_network.Network(X_shape, params, class_num,\n",
    "                                     fraction=MASKING_RATIO,\n",
    "                                     test_nodes=TEST_NODES).to(DEVICE)\n",
    "    model = model.to(DEVICE)\n",
    "    model.hypernet.to(DEVICE)\n",
    "\n",
    "    optimizer = torch.optim.AdamW(model.parameters(), lr=params['learning_rate'], weight_decay=1e-3, betas=(0.9,0.999), eps=params['eps'])\n",
    "\n",
    "    for epoch in tqdm.trange(EPOCHS):\n",
    "        loss_epoch = 0\n",
    "        loss_bt_epoch = 0\n",
    "        loss_cluster_epoch = 0\n",
    "        loss_hypertab_epoch = 0\n",
    "\n",
    "        for step, (x, _) in enumerate(data_loader):\n",
    "            x = x.to(DEVICE)\n",
    "            optimizer.zero_grad()\n",
    "            x_i, x_j = model.add_noise(x)\n",
    "\n",
    "            z_i, z_j, c_i, c_j = model(x_i, x_j)\n",
    "            \n",
    "            loss_instance = criterion_instance(z_i, z_j)\n",
    "            loss_cluster = criterion_cluster(c_i, c_j)\n",
    "            hypertab_loss = criterion_instance(x, x_i) + criterion_instance(x, x_j)\n",
    "\n",
    "            loss = loss_instance + loss_cluster + hypertab_loss*HT_LOSS_WEIGHT\n",
    "            loss.backward()\n",
    "            optimizer.step()\n",
    "\n",
    "            loss_bt_epoch += loss_instance.item()\n",
    "            loss_cluster_epoch += loss_cluster.item()\n",
    "            loss_hypertab_epoch += hypertab_loss.item()\n",
    "            loss_epoch += loss.item()\n",
    "\n",
    "        acc = cluster(model, data_loader)\n",
    "        final_accs.append(acc)\n",
    "        experiment.log_metric(\"loss\", loss_epoch, step=epoch)\n",
    "        experiment.log_metric(\"acc\", acc, step=epoch)\n",
    "        experiment.log_metric(\"loss_bt\", loss_bt_epoch / len(data_loader), step=epoch)\n",
    "        experiment.log_metric(\"loss_cluster\", loss_cluster_epoch / len(data_loader), step=epoch)\n",
    "        experiment.log_metric(\"loss_hypertab\", loss_hypertab_epoch / len(data_loader), step=epoch)"
   ]
  },
  {
   "cell_type": "code",
   "execution_count": null,
   "metadata": {},
   "outputs": [
    {
     "ename": "NameError",
     "evalue": "name 'DATASET' is not defined",
     "output_type": "error",
     "traceback": [
      "\u001b[0;31m---------------------------------------------------------------------------\u001b[0m",
      "\u001b[0;31mNameError\u001b[0m                                 Traceback (most recent call last)",
      "Cell \u001b[0;32mIn[2], line 2\u001b[0m\n\u001b[1;32m      1\u001b[0m \u001b[39m# Create `DATASET` folder if it doesn't exist\u001b[39;00m\n\u001b[0;32m----> 2\u001b[0m \u001b[39mif\u001b[39;00m \u001b[39mnot\u001b[39;00m os\u001b[39m.\u001b[39mpath\u001b[39m.\u001b[39mexists(\u001b[39mf\u001b[39m\u001b[39m\"\u001b[39m\u001b[39mresults/\u001b[39m\u001b[39m{\u001b[39;00mDATASET\u001b[39m}\u001b[39;00m\u001b[39m\"\u001b[39m):\n\u001b[1;32m      3\u001b[0m     os\u001b[39m.\u001b[39mmakedirs(\u001b[39mf\u001b[39m\u001b[39m\"\u001b[39m\u001b[39mresults/\u001b[39m\u001b[39m{\u001b[39;00mDATASET\u001b[39m}\u001b[39;00m\u001b[39m\"\u001b[39m)\n\u001b[1;32m      5\u001b[0m \u001b[39mwith\u001b[39;00m \u001b[39mopen\u001b[39m(\u001b[39mf\u001b[39m\u001b[39m\"\u001b[39m\u001b[39mresults/\u001b[39m\u001b[39m{\u001b[39;00mDATASET\u001b[39m}\u001b[39;00m\u001b[39m/\u001b[39m\u001b[39m{\u001b[39;00mTAG\u001b[39m}\u001b[39;00m\u001b[39m.txt\u001b[39m\u001b[39m\"\u001b[39m, \u001b[39m\"\u001b[39m\u001b[39ma\u001b[39m\u001b[39m\"\u001b[39m) \u001b[39mas\u001b[39;00m f:\n",
      "\u001b[0;31mNameError\u001b[0m: name 'DATASET' is not defined"
     ]
    }
   ],
   "source": [
    "# Create `DATASET` folder if it doesn't exist\n",
    "if not os.path.exists(f\"results/{DATASET}\"):\n",
    "    os.makedirs(f\"results/{DATASET}\")\n",
    "\n",
    "with open(f\"results/{DATASET}/{TAG}.txt\", \"a\") as f:\n",
    "    f.write(str(round(np.mean(final_accs), 3)) + \"~\" + str(round(np.std(final_accs), 3)))"
   ]
  }
 ],
 "metadata": {
  "kernelspec": {
   "display_name": "img_processing",
   "language": "python",
   "name": "python3"
  },
  "language_info": {
   "codemirror_mode": {
    "name": "ipython",
    "version": 3
   },
   "file_extension": ".py",
   "mimetype": "text/x-python",
   "name": "python",
   "nbconvert_exporter": "python",
   "pygments_lexer": "ipython3",
   "version": "3.10.8"
  },
  "orig_nbformat": 4,
  "vscode": {
   "interpreter": {
    "hash": "ded08e406c5d87bcffdecd729a49ddd8b871a9eb59463bfdfdc58a709830c2d5"
   }
  }
 },
 "nbformat": 4,
 "nbformat_minor": 2
}
