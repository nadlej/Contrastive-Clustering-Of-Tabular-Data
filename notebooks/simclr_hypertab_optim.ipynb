{
 "cells": [
  {
   "cell_type": "code",
   "execution_count": 1,
   "metadata": {
    "tags": [
     "parameters"
    ]
   },
   "outputs": [],
   "source": [
    "DEVICE: str = \"cuda:1\"\n",
    "DATASET: str = \"MouseProtein\""
   ]
  },
  {
   "cell_type": "code",
   "execution_count": 2,
   "metadata": {},
   "outputs": [],
   "source": [
    "import sys\n",
    "sys.path.append(\"../\")"
   ]
  },
  {
   "cell_type": "code",
   "execution_count": 3,
   "metadata": {},
   "outputs": [
    {
     "name": "stderr",
     "output_type": "stream",
     "text": [
      "/home/MCB/wwydmanski/miniconda3/envs/torch/lib/python3.9/site-packages/tqdm/auto.py:21: TqdmWarning: IProgress not found. Please update jupyter and ipywidgets. See https://ipywidgets.readthedocs.io/en/stable/user_install.html\n",
      "  from .autonotebook import tqdm as notebook_tqdm\n"
     ]
    }
   ],
   "source": [
    "import pyhopper"
   ]
  },
  {
   "cell_type": "code",
   "execution_count": 4,
   "metadata": {},
   "outputs": [],
   "source": [
    "import numpy as np\n",
    "import torch\n",
    "from torch import nn\n",
    "import tqdm\n",
    "import torch.optim\n",
    "from modules import hypertab_network, contrastive_loss\n",
    "from torch.utils import data\n",
    "from data_loader.data_loader import load_dataset\n",
    "from evaluation import evaluation"
   ]
  },
  {
   "cell_type": "code",
   "execution_count": 5,
   "metadata": {},
   "outputs": [],
   "source": [
    "import pandas as pd"
   ]
  },
  {
   "cell_type": "code",
   "execution_count": 6,
   "metadata": {},
   "outputs": [],
   "source": [
    "train_dataset, test_dataset = load_dataset(DATASET)\n",
    "\n",
    "dataset = data.ConcatDataset([train_dataset, test_dataset])\n",
    "\n",
    "try:\n",
    "    class_num = len(train_dataset.tensors[1].unique())\n",
    "    X_shape = train_dataset.tensors[0].shape[1]\n",
    "except AttributeError:\n",
    "    # MNIST\n",
    "    class_num = 10\n",
    "    X_shape = 784"
   ]
  },
  {
   "cell_type": "code",
   "execution_count": 7,
   "metadata": {},
   "outputs": [
    {
     "data": {
      "text/plain": [
       "(8, 77)"
      ]
     },
     "execution_count": 7,
     "metadata": {},
     "output_type": "execute_result"
    }
   ],
   "source": [
    "class_num, X_shape"
   ]
  },
  {
   "attachments": {},
   "cell_type": "markdown",
   "metadata": {},
   "source": [
    "## Initialize network"
   ]
  },
  {
   "attachments": {},
   "cell_type": "markdown",
   "metadata": {},
   "source": [
    "## Implement Barlow Twins loss"
   ]
  },
  {
   "cell_type": "code",
   "execution_count": 11,
   "metadata": {},
   "outputs": [],
   "source": [
    "class BarlowTwinsLoss(nn.Module):\n",
    "    def __init__(self, lbd) -> None:\n",
    "        super().__init__()\n",
    "        self.lbd = lbd\n",
    "    \n",
    "    def forward(self, z_a, z_b) -> torch.Tensor:\n",
    "        z_a = nn.functional.normalize(z_a, dim=0)\n",
    "        z_b = nn.functional.normalize(z_b, dim=0)\n",
    "        c = torch.matmul(z_a.T, z_b) \n",
    "        invariance_loss = c - torch.eye(c.shape[0], device=c.device)\n",
    "        loss = torch.sum(invariance_loss.diagonal() ** 2)\n",
    "\n",
    "        redundancy_loss = c**2\n",
    "        redundancy_loss.diagonal().fill_(0)\n",
    "        loss += self.lbd * torch.sum(redundancy_loss)\n",
    "        return loss"
   ]
  },
  {
   "attachments": {},
   "cell_type": "markdown",
   "metadata": {},
   "source": [
    "## Prepare clustering evaluation"
   ]
  },
  {
   "cell_type": "code",
   "execution_count": 16,
   "metadata": {},
   "outputs": [],
   "source": [
    "def cluster(model, data_loader):\n",
    "    model.eval()\n",
    "    accuracies = []\n",
    "    nmi_scores = []\n",
    "    for step, (x, y) in enumerate(data_loader):\n",
    "        x = x.to(DEVICE)\n",
    "        y = y.tolist()\n",
    "        \n",
    "        with torch.no_grad():\n",
    "            y_pred = model.forward_cluster(x).cpu().detach().tolist()\n",
    "            \n",
    "        try:\n",
    "            nmi, ari, f, acc = evaluation.evaluate(y, y_pred, class_num)\n",
    "        except IndexError:\n",
    "            continue \n",
    "        accuracies.append(acc)\n",
    "        nmi_scores.append(nmi)\n",
    "    return np.mean(accuracies), np.mean(nmi_scores)"
   ]
  },
  {
   "attachments": {},
   "cell_type": "markdown",
   "metadata": {},
   "source": [
    "## Train the model"
   ]
  },
  {
   "cell_type": "code",
   "execution_count": 17,
   "metadata": {},
   "outputs": [],
   "source": [
    "def run_experiment(BATCH_SIZE, MASKING_RATIO, BT_LAMBDA, PROJECTION_SIZE, EPOCHS, TEST_NODES, LEARNING_RATE, HT_LOSS_WEIGHT):\n",
    "    print(\"Start training on device: {}\".format(DEVICE))\n",
    "    criterion_instance = contrastive_loss.InstanceLoss(BATCH_SIZE, 0.5, DEVICE).to(DEVICE)\n",
    "    criterion_cluster = contrastive_loss.ClusterLoss(class_num, 1.0, DEVICE).to(DEVICE)\n",
    "\n",
    "    data_loader = torch.utils.data.DataLoader(\n",
    "        dataset,\n",
    "        batch_size=BATCH_SIZE,\n",
    "        shuffle=True,\n",
    "        drop_last=True,\n",
    "        num_workers=0,\n",
    "    )\n",
    "\n",
    "    params = {\n",
    "        'projection_size': PROJECTION_SIZE,\n",
    "        'n_layers': 3,\n",
    "        '0_layer_size': 512,\n",
    "        '1_layer_size': 256,\n",
    "        '2_layer_size': 128,\n",
    "    }\n",
    "\n",
    "    final_accs = []\n",
    "    model = hypertab_network.Network(X_shape, params, class_num,\n",
    "                                    fraction=MASKING_RATIO,\n",
    "                                    test_nodes=TEST_NODES).to(DEVICE)\n",
    "    model = model.to(DEVICE)\n",
    "    model.hypernet.to(DEVICE)\n",
    "\n",
    "    optimizer = torch.optim.AdamW(model.parameters(), lr=LEARNING_RATE, weight_decay=1e-3, betas=(0.9,0.999), eps=1e-7)\n",
    "\n",
    "    for epoch in range(EPOCHS):\n",
    "        loss_epoch = 0\n",
    "        loss_bt_epoch = 0\n",
    "        loss_cluster_epoch = 0\n",
    "        loss_hypertab_epoch = 0\n",
    "\n",
    "        for step, (x, _) in enumerate(data_loader):\n",
    "            x = x.to(DEVICE)\n",
    "            optimizer.zero_grad()\n",
    "            x_i, x_j = model.add_noise(x)\n",
    "\n",
    "            z_i, z_j, c_i, c_j = model(x_i, x_j)\n",
    "            \n",
    "            loss_instance = criterion_instance(z_i, z_j)\n",
    "            loss_cluster = criterion_cluster(c_i, c_j)\n",
    "            hypertab_loss = criterion_instance(x, x_i) + criterion_instance(x, x_j)\n",
    "\n",
    "            loss = loss_instance + loss_cluster + hypertab_loss*HT_LOSS_WEIGHT\n",
    "            loss.backward()\n",
    "            optimizer.step()\n",
    "\n",
    "            loss_bt_epoch += loss_instance.item()\n",
    "            loss_cluster_epoch += loss_cluster.item()\n",
    "            loss_hypertab_epoch += hypertab_loss.item()\n",
    "            loss_epoch += loss.item()\n",
    "\n",
    "    acc, nmi = cluster(model, data_loader)  \n",
    "    return acc, nmi"
   ]
  },
  {
   "cell_type": "code",
   "execution_count": 18,
   "metadata": {},
   "outputs": [],
   "source": [
    "def pyhopper_exp(params):\n",
    "    res = run_experiment(**params)[1]\n",
    "    with open(f\"params/{DATASET}_nmi.txt\", \"a\") as f:\n",
    "        f.write(str(params) + \"\\t\" + str(res) + \"\\n\")\n",
    "    \n",
    "    # if res is NaN, return 0\n",
    "    if np.isnan(res):\n",
    "        return 0\n",
    "    return res\n",
    "\n",
    "# search_grid = {\n",
    "#     \"fraction\": pyhopper.float(0.1, 0.9, \"0.1f\"),\n",
    "#     \"lr\": pyhopper.float(1e-5, 1e-3, \"0.1g\"),\n",
    "#     \"epochs\": pyhopper.int(20, 150, multiple_of=20),\n",
    "#     \"neurons\": pyhopper.int(128, 1024, multiple_of=128),\n",
    "#     \"out_dim\": pyhopper.int(64, 512, multiple_of=64)\n",
    "# }\n",
    "\n",
    "# Search grid for: BATCH_SIZE, MASKING_RATIO, BT_LAMBDA, PROJECTION_SIZE, EPOCHS, TEST_NODES, LEARNING_RATE, HT_LOSS_WEIGHT\n",
    "search_grid = {\n",
    "    \"BATCH_SIZE\": pyhopper.choice([32, 64, 128]),\n",
    "    \"MASKING_RATIO\": pyhopper.float(0.5, 0.9, \"0.1f\"),\n",
    "    \"BT_LAMBDA\": pyhopper.float(1e-5, 1e-3, \"0.1g\"),\n",
    "    \"PROJECTION_SIZE\": pyhopper.choice([64, 128, 256, 512]),\n",
    "    \"EPOCHS\": pyhopper.choice([50, 100, 150]),\n",
    "    \"TEST_NODES\": pyhopper.choice([2, 5, 25, 50]),\n",
    "    \"LEARNING_RATE\": pyhopper.float(1e-4, 1e-2, \"0.1g\"),\n",
    "    \"HT_LOSS_WEIGHT\": pyhopper.choice([0, 0.5, 1, 1.5]),\n",
    "}\n",
    "\n",
    "search = pyhopper.Search(search_grid)"
   ]
  },
  {
   "cell_type": "code",
   "execution_count": 22,
   "metadata": {},
   "outputs": [
    {
     "name": "stderr",
     "output_type": "stream",
     "text": [
      "                           \n",
      "  0%|          |  [00:52<?]"
     ]
    },
    {
     "name": "stdout",
     "output_type": "stream",
     "text": [
      "Search is scheduled for 20 steps\n",
      "Start training on device: cuda:1\n"
     ]
    },
    {
     "name": "stderr",
     "output_type": "stream",
     "text": [
      "\n",
      "\u001b[A\n",
      "\u001b[A\n",
      "\u001b[A\n",
      "\u001b[A\n",
      "\u001b[A\n",
      "\u001b[A\n",
      "\u001b[A\n",
      "\u001b[A\n",
      "\u001b[A\n",
      "\u001b[A\n",
      "\u001b[A\n",
      "\u001b[A\n",
      "\u001b[A\n",
      "\u001b[A\n",
      "\u001b[A\n",
      "\u001b[A\n",
      "\u001b[A\n",
      "\u001b[A\n",
      "\u001b[A\n",
      "\u001b[A\n",
      "\u001b[A\n",
      "\u001b[A\n",
      "\u001b[A\n",
      "\u001b[A\n",
      "\u001b[A\n",
      "\u001b[A\n",
      "\u001b[A\n",
      "\u001b[A\n",
      "\u001b[A\n",
      "\u001b[A\n",
      "\u001b[A\n",
      "\u001b[A\n",
      "\u001b[A\n",
      "\u001b[A\n",
      "\u001b[A\n",
      "\u001b[A\n",
      "\u001b[A\n",
      "\u001b[A\n",
      "\u001b[A\n",
      "\u001b[A\n",
      "\u001b[A\n",
      "\u001b[A\n",
      "\u001b[A\n",
      "\u001b[A\n",
      "\u001b[A\n",
      "\u001b[A\n",
      "\u001b[A\n",
      "\u001b[A\n",
      "\u001b[A\n",
      "\u001b[A\n",
      "\u001b[A\n",
      "\u001b[A\n",
      "\u001b[A\n",
      "\u001b[A\n",
      "\u001b[A\n",
      "\u001b[A\n",
      "\u001b[A\n",
      "\u001b[A\n",
      "\u001b[A\n",
      "\u001b[A\n",
      "\u001b[A\n",
      "\u001b[A\n",
      "\u001b[A\n",
      "\u001b[A\n",
      "\u001b[A\n",
      "\u001b[A\n",
      "\u001b[A\n",
      "\u001b[A\n",
      "\u001b[A\n",
      "\u001b[A\n",
      "\u001b[A\n",
      "\u001b[A\n",
      "\u001b[A\n",
      "\u001b[A\n",
      "\u001b[A\n",
      "\u001b[A\n",
      "\u001b[A\n",
      "\u001b[A\n",
      "\u001b[A\n",
      "\u001b[A\n",
      "\u001b[A\n",
      "\u001b[A\n",
      "\u001b[A\n",
      "\u001b[A\n",
      "\u001b[A\n",
      "\u001b[A\n",
      "\u001b[A\n",
      "\u001b[A\n",
      "\u001b[A\n",
      "\u001b[A\n",
      "\u001b[A\n",
      "\u001b[A\n",
      "\u001b[A\n",
      "\u001b[A\n",
      "\u001b[A\n",
      "\u001b[A\n",
      "\u001b[A\n",
      "\u001b[A\n",
      "\u001b[A"
     ]
    },
    {
     "name": "stdout",
     "output_type": "stream",
     "text": [
      "CTRL+C received. Will terminate once the currently running candidates finished\n"
     ]
    },
    {
     "name": "stderr",
     "output_type": "stream",
     "text": [
      "\n",
      "\u001b[A\n",
      "\u001b[A\n",
      "\u001b[A\n",
      "\u001b[A\n",
      "\u001b[A\n",
      "\u001b[A\n",
      "\u001b[A\n",
      "\u001b[A\n",
      "\u001b[A\n",
      "\u001b[A\n",
      "\u001b[A\n",
      "\u001b[A\n",
      "\u001b[A\n",
      "\u001b[A\n",
      "\u001b[A\n",
      "\u001b[A\n",
      "\u001b[A\n",
      "\u001b[A\n",
      "\u001b[A\n",
      "\u001b[A\n",
      "\u001b[A\n",
      "\u001b[A\n",
      "\u001b[A\n",
      "\u001b[A\n",
      "\u001b[A\n",
      "\u001b[A\n",
      "\u001b[A\n",
      "\u001b[A\n",
      "\u001b[A\n",
      "\u001b[A\n",
      "\u001b[A\n",
      "\u001b[A\n",
      "\u001b[A\n",
      "\u001b[A\n",
      "\u001b[A\n",
      "\u001b[A\n",
      "\u001b[A\n",
      "\u001b[A\n",
      "\u001b[A\n",
      "\u001b[A\n",
      "\u001b[A\n",
      "100%|██████████| 140/140 [16:54<00:00,  7.25s/it]\n"
     ]
    }
   ],
   "source": [
    "best = search.run(pyhopper.wrap_n_times(pyhopper_exp, 3), \"max\", steps=50, pruner=pyhopper.pruners.QuantilePruner(0.8))"
   ]
  },
  {
   "cell_type": "code",
   "execution_count": null,
   "metadata": {},
   "outputs": [],
   "source": [
    "accuracies = []\n",
    "nmi_scores = []\n",
    "for i in range(3):\n",
    "    acc, nmi = run_experiment(**best)\n",
    "    accuracies.append(acc)\n",
    "    nmi_scores.append(nmi)\n",
    "    print(acc, nmi)\n",
    "\n",
    "# print(accuracies)\n",
    "# print(np.mean(accuracies), np.std(accuracies))\n",
    "\n",
    "# print(nmi_scores)\n",
    "# print(np.mean(nmi_scores), np.std(nmi_scores))\n",
    "\n",
    "print(f\"{np.mean(accuracies)*100:.2f}~{np.std(accuracies)*100:.2f}\")\n",
    "print(f\"{np.mean(nmi_scores)*100:.2f}~{np.std(nmi_scores)*100:.2f}\")"
   ]
  }
 ],
 "metadata": {
  "kernelspec": {
   "display_name": "img_processing",
   "language": "python",
   "name": "python3"
  },
  "language_info": {
   "codemirror_mode": {
    "name": "ipython",
    "version": 3
   },
   "file_extension": ".py",
   "mimetype": "text/x-python",
   "name": "python",
   "nbconvert_exporter": "python",
   "pygments_lexer": "ipython3",
   "version": "3.9.16"
  },
  "orig_nbformat": 4,
  "vscode": {
   "interpreter": {
    "hash": "ded08e406c5d87bcffdecd729a49ddd8b871a9eb59463bfdfdc58a709830c2d5"
   }
  }
 },
 "nbformat": 4,
 "nbformat_minor": 2
}
